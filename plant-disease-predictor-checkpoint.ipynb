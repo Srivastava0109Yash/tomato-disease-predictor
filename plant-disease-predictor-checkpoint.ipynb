{
 "cells": [
  {
   "cell_type": "code",
   "execution_count": 1,
   "metadata": {
    "_cell_guid": "b1076dfc-b9ad-4769-8c92-a6c4dae69d19",
    "_uuid": "8f2839f25d086af736a60e9eeb907d3b93b6e0e5",
    "execution": {
     "iopub.execute_input": "2022-10-25T16:11:22.875291Z",
     "iopub.status.busy": "2022-10-25T16:11:22.874334Z",
     "iopub.status.idle": "2022-10-25T16:11:25.149927Z",
     "shell.execute_reply": "2022-10-25T16:11:25.148771Z",
     "shell.execute_reply.started": "2022-10-25T16:11:22.875199Z"
    }
   },
   "outputs": [],
   "source": [
    "import numpy as np\n",
    "import matplotlib.pyplot as plt\n",
    "import glob\n",
    "import cv2\n",
    "import os\n",
    "import matplotlib.image as mpimg\n",
    "import random\n",
    "from sklearn import preprocessing\n",
    "import tensorflow.keras as keras\n",
    "import tensorflow as tf\n",
    "from keras.preprocessing.image import ImageDataGenerator\n",
    "from tensorflow.keras.utils import to_categorical"
   ]
  },
  {
   "cell_type": "code",
   "execution_count": 2,
   "metadata": {
    "execution": {
     "iopub.execute_input": "2022-10-25T16:11:26.627546Z",
     "iopub.status.busy": "2022-10-25T16:11:26.626584Z",
     "iopub.status.idle": "2022-10-25T16:11:26.633608Z",
     "shell.execute_reply": "2022-10-25T16:11:26.632040Z",
     "shell.execute_reply.started": "2022-10-25T16:11:26.627499Z"
    }
   },
   "outputs": [],
   "source": [
    "size=256\n",
    "seed_training =121\n",
    "seed_testing=197\n",
    "seed_validation=164\n",
    "channels=3\n",
    "n_classes=10\n",
    "epochs=20\n",
    "batch_size=30\n",
    "input_shape=(size,size,channels)"
   ]
  },
  {
   "cell_type": "code",
   "execution_count": 3,
   "metadata": {
    "execution": {
     "iopub.execute_input": "2022-10-25T16:11:28.532607Z",
     "iopub.status.busy": "2022-10-25T16:11:28.532124Z",
     "iopub.status.idle": "2022-10-25T16:11:28.539382Z",
     "shell.execute_reply": "2022-10-25T16:11:28.538236Z",
     "shell.execute_reply.started": "2022-10-25T16:11:28.532563Z"
    }
   },
   "outputs": [],
   "source": [
    "train_datagen= ImageDataGenerator(\n",
    "    rescale=1./255,\n",
    "    rotation_range=30,\n",
    "    zoom_range=0.2,\n",
    "    width_shift_range=0.05,\n",
    "    height_shift_range=0.05,\n",
    "    horizontal_flip=True,\n",
    "    fill_mode='nearest'\n",
    ")"
   ]
  },
  {
   "cell_type": "code",
   "execution_count": 4,
   "metadata": {
    "execution": {
     "iopub.execute_input": "2022-10-25T16:11:30.062617Z",
     "iopub.status.busy": "2022-10-25T16:11:30.061794Z",
     "iopub.status.idle": "2022-10-25T16:11:30.067912Z",
     "shell.execute_reply": "2022-10-25T16:11:30.066924Z",
     "shell.execute_reply.started": "2022-10-25T16:11:30.062575Z"
    }
   },
   "outputs": [],
   "source": [
    "validation_datagen = ImageDataGenerator(rescale=1./255)\n",
    "test_datagen = ImageDataGenerator(rescale = 1./255)"
   ]
  },
  {
   "cell_type": "code",
   "execution_count": 5,
   "metadata": {
    "execution": {
     "iopub.execute_input": "2022-10-25T16:11:33.331444Z",
     "iopub.status.busy": "2022-10-25T16:11:33.331077Z",
     "iopub.status.idle": "2022-10-25T16:11:35.377015Z",
     "shell.execute_reply": "2022-10-25T16:11:35.375951Z",
     "shell.execute_reply.started": "2022-10-25T16:11:33.331412Z"
    }
   },
   "outputs": [
    {
     "name": "stdout",
     "output_type": "stream",
     "text": [
      "Found 10000 images belonging to 10 classes.\n"
     ]
    }
   ],
   "source": [
    "train_generator = train_datagen.flow_from_directory(\n",
    "        directory = \"../input/tomatoleaf/tomato/train/\",  # this is the input directory\n",
    "        target_size = (256, 256),  # all images will be resized to 64x64\n",
    "        batch_size = batch_size,\n",
    "        class_mode = 'categorical',\n",
    "        color_mode=\"rgb\")"
   ]
  },
  {
   "cell_type": "code",
   "execution_count": 6,
   "metadata": {
    "execution": {
     "iopub.execute_input": "2022-10-25T16:11:37.447289Z",
     "iopub.status.busy": "2022-10-25T16:11:37.444534Z",
     "iopub.status.idle": "2022-10-25T16:11:38.113070Z",
     "shell.execute_reply": "2022-10-25T16:11:38.111054Z",
     "shell.execute_reply.started": "2022-10-25T16:11:37.447247Z"
    }
   },
   "outputs": [
    {
     "name": "stdout",
     "output_type": "stream",
     "text": [
      "Found 10000 images belonging to 10 classes.\n"
     ]
    }
   ],
   "source": [
    "test_generator = test_datagen.flow_from_directory(\n",
    "        directory=\"../input/tomatoleaf/tomato/train/\",\n",
    "        target_size = (256, 256),\n",
    "        batch_size = batch_size,\n",
    "        class_mode = 'categorical',\n",
    "        color_mode = \"rgb\"\n",
    ")"
   ]
  },
  {
   "cell_type": "code",
   "execution_count": 7,
   "metadata": {
    "execution": {
     "iopub.execute_input": "2022-10-25T16:11:39.554897Z",
     "iopub.status.busy": "2022-10-25T16:11:39.554403Z",
     "iopub.status.idle": "2022-10-25T16:11:39.872141Z",
     "shell.execute_reply": "2022-10-25T16:11:39.871027Z",
     "shell.execute_reply.started": "2022-10-25T16:11:39.554838Z"
    }
   },
   "outputs": [
    {
     "name": "stdout",
     "output_type": "stream",
     "text": [
      "Found 1000 images belonging to 10 classes.\n"
     ]
    }
   ],
   "source": [
    "validation_generator = validation_datagen.flow_from_directory(\n",
    "        directory=\"../input/tomatoleaf/tomato/val/\",\n",
    "        target_size = (256, 256),\n",
    "        batch_size = batch_size,\n",
    "        class_mode='categorical',\n",
    "        color_mode=\"rgb\")"
   ]
  },
  {
   "cell_type": "code",
   "execution_count": 8,
   "metadata": {
    "execution": {
     "iopub.execute_input": "2022-10-25T16:11:41.769368Z",
     "iopub.status.busy": "2022-10-25T16:11:41.768979Z",
     "iopub.status.idle": "2022-10-25T16:11:43.034109Z",
     "shell.execute_reply": "2022-10-25T16:11:43.033030Z",
     "shell.execute_reply.started": "2022-10-25T16:11:41.769334Z"
    }
   },
   "outputs": [
    {
     "name": "stderr",
     "output_type": "stream",
     "text": [
      "2022-10-25 16:11:41.843722: I tensorflow/stream_executor/cuda/cuda_gpu_executor.cc:937] successful NUMA node read from SysFS had negative value (-1), but there must be at least one NUMA node, so returning NUMA node zero\n",
      "2022-10-25 16:11:41.853889: I tensorflow/stream_executor/cuda/cuda_gpu_executor.cc:937] successful NUMA node read from SysFS had negative value (-1), but there must be at least one NUMA node, so returning NUMA node zero\n",
      "2022-10-25 16:11:41.854671: I tensorflow/stream_executor/cuda/cuda_gpu_executor.cc:937] successful NUMA node read from SysFS had negative value (-1), but there must be at least one NUMA node, so returning NUMA node zero\n",
      "2022-10-25 16:11:41.856220: I tensorflow/core/platform/cpu_feature_guard.cc:142] This TensorFlow binary is optimized with oneAPI Deep Neural Network Library (oneDNN) to use the following CPU instructions in performance-critical operations:  AVX2 AVX512F FMA\n",
      "To enable them in other operations, rebuild TensorFlow with the appropriate compiler flags.\n",
      "2022-10-25 16:11:41.856541: I tensorflow/stream_executor/cuda/cuda_gpu_executor.cc:937] successful NUMA node read from SysFS had negative value (-1), but there must be at least one NUMA node, so returning NUMA node zero\n",
      "2022-10-25 16:11:41.857284: I tensorflow/stream_executor/cuda/cuda_gpu_executor.cc:937] successful NUMA node read from SysFS had negative value (-1), but there must be at least one NUMA node, so returning NUMA node zero\n",
      "2022-10-25 16:11:41.857973: I tensorflow/stream_executor/cuda/cuda_gpu_executor.cc:937] successful NUMA node read from SysFS had negative value (-1), but there must be at least one NUMA node, so returning NUMA node zero\n",
      "2022-10-25 16:11:42.594127: I tensorflow/stream_executor/cuda/cuda_gpu_executor.cc:937] successful NUMA node read from SysFS had negative value (-1), but there must be at least one NUMA node, so returning NUMA node zero\n",
      "2022-10-25 16:11:42.595042: I tensorflow/stream_executor/cuda/cuda_gpu_executor.cc:937] successful NUMA node read from SysFS had negative value (-1), but there must be at least one NUMA node, so returning NUMA node zero\n",
      "2022-10-25 16:11:42.595737: I tensorflow/stream_executor/cuda/cuda_gpu_executor.cc:937] successful NUMA node read from SysFS had negative value (-1), but there must be at least one NUMA node, so returning NUMA node zero\n",
      "2022-10-25 16:11:42.596373: I tensorflow/core/common_runtime/gpu/gpu_device.cc:1510] Created device /job:localhost/replica:0/task:0/device:GPU:0 with 15401 MB memory:  -> device: 0, name: Tesla P100-PCIE-16GB, pci bus id: 0000:00:04.0, compute capability: 6.0\n"
     ]
    }
   ],
   "source": [
    "model = keras.models.Sequential([\n",
    "        keras.layers.Conv2D(32, (3,3), activation = 'relu', input_shape = input_shape),\n",
    "        keras.layers.MaxPooling2D((2, 2)),\n",
    "        keras.layers.Dropout(0.5),\n",
    "        keras.layers.Conv2D(64, (3,3), activation = 'relu', padding = 'same'),\n",
    "        keras.layers.MaxPooling2D((2,2)),\n",
    "        keras.layers.Dropout(0.5),\n",
    "        keras.layers.Conv2D(64, (3,3), activation = 'relu', padding = 'same'),\n",
    "        keras.layers.MaxPooling2D((2,2)),\n",
    "        keras.layers.Conv2D(64, (3,3), activation = 'relu', padding = 'same'),\n",
    "        keras.layers.MaxPooling2D((2,2)),\n",
    "        keras.layers.Conv2D(64, (3,3), activation = 'relu', padding = 'same'),\n",
    "        keras.layers.MaxPooling2D((2,2)),\n",
    "        keras.layers.Conv2D(64, (3,3), activation = 'relu', padding = 'same'),\n",
    "        keras.layers.MaxPooling2D((2,2)),\n",
    "        keras.layers.Flatten(),\n",
    "        keras.layers.Dense(32, activation ='relu'),\n",
    "        keras.layers.Dense(n_classes, activation='softmax')\n",
    "    ])"
   ]
  },
  {
   "cell_type": "code",
   "execution_count": 9,
   "metadata": {
    "execution": {
     "iopub.execute_input": "2022-10-25T16:11:46.409156Z",
     "iopub.status.busy": "2022-10-25T16:11:46.408505Z",
     "iopub.status.idle": "2022-10-25T16:11:46.417862Z",
     "shell.execute_reply": "2022-10-25T16:11:46.416555Z",
     "shell.execute_reply.started": "2022-10-25T16:11:46.409113Z"
    }
   },
   "outputs": [
    {
     "name": "stdout",
     "output_type": "stream",
     "text": [
      "Model: \"sequential\"\n",
      "_________________________________________________________________\n",
      "Layer (type)                 Output Shape              Param #   \n",
      "=================================================================\n",
      "conv2d (Conv2D)              (None, 254, 254, 32)      896       \n",
      "_________________________________________________________________\n",
      "max_pooling2d (MaxPooling2D) (None, 127, 127, 32)      0         \n",
      "_________________________________________________________________\n",
      "dropout (Dropout)            (None, 127, 127, 32)      0         \n",
      "_________________________________________________________________\n",
      "conv2d_1 (Conv2D)            (None, 127, 127, 64)      18496     \n",
      "_________________________________________________________________\n",
      "max_pooling2d_1 (MaxPooling2 (None, 63, 63, 64)        0         \n",
      "_________________________________________________________________\n",
      "dropout_1 (Dropout)          (None, 63, 63, 64)        0         \n",
      "_________________________________________________________________\n",
      "conv2d_2 (Conv2D)            (None, 63, 63, 64)        36928     \n",
      "_________________________________________________________________\n",
      "max_pooling2d_2 (MaxPooling2 (None, 31, 31, 64)        0         \n",
      "_________________________________________________________________\n",
      "conv2d_3 (Conv2D)            (None, 31, 31, 64)        36928     \n",
      "_________________________________________________________________\n",
      "max_pooling2d_3 (MaxPooling2 (None, 15, 15, 64)        0         \n",
      "_________________________________________________________________\n",
      "conv2d_4 (Conv2D)            (None, 15, 15, 64)        36928     \n",
      "_________________________________________________________________\n",
      "max_pooling2d_4 (MaxPooling2 (None, 7, 7, 64)          0         \n",
      "_________________________________________________________________\n",
      "conv2d_5 (Conv2D)            (None, 7, 7, 64)          36928     \n",
      "_________________________________________________________________\n",
      "max_pooling2d_5 (MaxPooling2 (None, 3, 3, 64)          0         \n",
      "_________________________________________________________________\n",
      "flatten (Flatten)            (None, 576)               0         \n",
      "_________________________________________________________________\n",
      "dense (Dense)                (None, 32)                18464     \n",
      "_________________________________________________________________\n",
      "dense_1 (Dense)              (None, 10)                330       \n",
      "=================================================================\n",
      "Total params: 185,898\n",
      "Trainable params: 185,898\n",
      "Non-trainable params: 0\n",
      "_________________________________________________________________\n"
     ]
    }
   ],
   "source": [
    "model.summary()"
   ]
  },
  {
   "cell_type": "code",
   "execution_count": 10,
   "metadata": {
    "execution": {
     "iopub.execute_input": "2022-10-25T16:11:47.461680Z",
     "iopub.status.busy": "2022-10-25T16:11:47.461276Z",
     "iopub.status.idle": "2022-10-25T16:11:47.480481Z",
     "shell.execute_reply": "2022-10-25T16:11:47.479199Z",
     "shell.execute_reply.started": "2022-10-25T16:11:47.461644Z"
    }
   },
   "outputs": [],
   "source": [
    "model.compile(\n",
    "    optimizer = 'adam',\n",
    "    loss = tf.keras.losses.CategoricalCrossentropy(),\n",
    "    metrics  = ['accuracy']\n",
    "    )"
   ]
  },
  {
   "cell_type": "code",
   "execution_count": 11,
   "metadata": {
    "execution": {
     "iopub.execute_input": "2022-10-25T16:11:48.425220Z",
     "iopub.status.busy": "2022-10-25T16:11:48.423386Z",
     "iopub.status.idle": "2022-10-25T17:46:16.395052Z",
     "shell.execute_reply": "2022-10-25T17:46:16.393997Z",
     "shell.execute_reply.started": "2022-10-25T16:11:48.425165Z"
    }
   },
   "outputs": [
    {
     "name": "stderr",
     "output_type": "stream",
     "text": [
      "/opt/conda/lib/python3.7/site-packages/keras/engine/training.py:1972: UserWarning: `Model.fit_generator` is deprecated and will be removed in a future version. Please use `Model.fit`, which supports generators.\n",
      "  warnings.warn('`Model.fit_generator` is deprecated and '\n",
      "2022-10-25 16:11:49.154429: I tensorflow/compiler/mlir/mlir_graph_optimization_pass.cc:185] None of the MLIR Optimization Passes are enabled (registered 2)\n"
     ]
    },
    {
     "name": "stdout",
     "output_type": "stream",
     "text": [
      "Epoch 1/30\n"
     ]
    },
    {
     "name": "stderr",
     "output_type": "stream",
     "text": [
      "2022-10-25 16:11:51.634611: I tensorflow/stream_executor/cuda/cuda_dnn.cc:369] Loaded cuDNN version 8005\n"
     ]
    },
    {
     "name": "stdout",
     "output_type": "stream",
     "text": [
      "333/333 [==============================] - 229s 678ms/step - loss: 1.9972 - accuracy: 0.2568 - val_loss: 1.8130 - val_accuracy: 0.3000\n",
      "Epoch 2/30\n",
      "333/333 [==============================] - 169s 507ms/step - loss: 1.4803 - accuracy: 0.4825 - val_loss: 1.5291 - val_accuracy: 0.4505\n",
      "Epoch 3/30\n",
      "333/333 [==============================] - 166s 498ms/step - loss: 1.0759 - accuracy: 0.6228 - val_loss: 1.1262 - val_accuracy: 0.5788\n",
      "Epoch 4/30\n",
      "333/333 [==============================] - 162s 486ms/step - loss: 0.8547 - accuracy: 0.6892 - val_loss: 0.8396 - val_accuracy: 0.6848\n",
      "Epoch 5/30\n",
      "333/333 [==============================] - 167s 499ms/step - loss: 0.6865 - accuracy: 0.7550 - val_loss: 0.7375 - val_accuracy: 0.7212\n",
      "Epoch 6/30\n",
      "333/333 [==============================] - 172s 517ms/step - loss: 0.5866 - accuracy: 0.7878 - val_loss: 0.9192 - val_accuracy: 0.6667\n",
      "Epoch 7/30\n",
      "333/333 [==============================] - 175s 524ms/step - loss: 0.5488 - accuracy: 0.8066 - val_loss: 0.7211 - val_accuracy: 0.7434\n",
      "Epoch 8/30\n",
      "333/333 [==============================] - 170s 509ms/step - loss: 0.4864 - accuracy: 0.8296 - val_loss: 0.5298 - val_accuracy: 0.8030\n",
      "Epoch 9/30\n",
      "333/333 [==============================] - 169s 507ms/step - loss: 0.4095 - accuracy: 0.8569 - val_loss: 0.5502 - val_accuracy: 0.8121\n",
      "Epoch 10/30\n",
      "333/333 [==============================] - 167s 502ms/step - loss: 0.3667 - accuracy: 0.8705 - val_loss: 0.4943 - val_accuracy: 0.8323\n",
      "Epoch 11/30\n",
      "333/333 [==============================] - 169s 509ms/step - loss: 0.3388 - accuracy: 0.8855 - val_loss: 0.4962 - val_accuracy: 0.8293\n",
      "Epoch 12/30\n",
      "333/333 [==============================] - 180s 541ms/step - loss: 0.3170 - accuracy: 0.8935 - val_loss: 0.3553 - val_accuracy: 0.8818\n",
      "Epoch 13/30\n",
      "333/333 [==============================] - 174s 523ms/step - loss: 0.2803 - accuracy: 0.9050 - val_loss: 0.4534 - val_accuracy: 0.8495\n",
      "Epoch 14/30\n",
      "333/333 [==============================] - 171s 515ms/step - loss: 0.2890 - accuracy: 0.9014 - val_loss: 0.4337 - val_accuracy: 0.8576\n",
      "Epoch 15/30\n",
      "333/333 [==============================] - 176s 527ms/step - loss: 0.2604 - accuracy: 0.9088 - val_loss: 0.2940 - val_accuracy: 0.8808\n",
      "Epoch 16/30\n",
      "333/333 [==============================] - 173s 518ms/step - loss: 0.2479 - accuracy: 0.9151 - val_loss: 0.4593 - val_accuracy: 0.8475\n",
      "Epoch 17/30\n",
      "333/333 [==============================] - 171s 514ms/step - loss: 0.2444 - accuracy: 0.9135 - val_loss: 0.5204 - val_accuracy: 0.8232\n",
      "Epoch 18/30\n",
      "333/333 [==============================] - 173s 519ms/step - loss: 0.2211 - accuracy: 0.9225 - val_loss: 0.3871 - val_accuracy: 0.8758\n",
      "Epoch 19/30\n",
      "333/333 [==============================] - 172s 517ms/step - loss: 0.2241 - accuracy: 0.9215 - val_loss: 0.4049 - val_accuracy: 0.8525\n",
      "Epoch 20/30\n",
      "333/333 [==============================] - 170s 510ms/step - loss: 0.2039 - accuracy: 0.9307 - val_loss: 0.3222 - val_accuracy: 0.8848\n",
      "Epoch 21/30\n",
      "333/333 [==============================] - 171s 513ms/step - loss: 0.1977 - accuracy: 0.9310 - val_loss: 0.4591 - val_accuracy: 0.8535\n",
      "Epoch 22/30\n",
      "333/333 [==============================] - 179s 538ms/step - loss: 0.2041 - accuracy: 0.9294 - val_loss: 0.3205 - val_accuracy: 0.8960\n",
      "Epoch 23/30\n",
      "333/333 [==============================] - 174s 524ms/step - loss: 0.1806 - accuracy: 0.9337 - val_loss: 0.2919 - val_accuracy: 0.9010\n",
      "Epoch 24/30\n",
      "333/333 [==============================] - 172s 516ms/step - loss: 0.1793 - accuracy: 0.9389 - val_loss: 0.3974 - val_accuracy: 0.8626\n",
      "Epoch 25/30\n",
      "333/333 [==============================] - 172s 516ms/step - loss: 0.1787 - accuracy: 0.9363 - val_loss: 0.4174 - val_accuracy: 0.8626\n",
      "Epoch 26/30\n",
      "333/333 [==============================] - 169s 508ms/step - loss: 0.1968 - accuracy: 0.9328 - val_loss: 0.2907 - val_accuracy: 0.8960\n",
      "Epoch 27/30\n",
      "333/333 [==============================] - 172s 517ms/step - loss: 0.1468 - accuracy: 0.9505 - val_loss: 0.3100 - val_accuracy: 0.8899\n",
      "Epoch 28/30\n",
      "333/333 [==============================] - 170s 509ms/step - loss: 0.1610 - accuracy: 0.9476 - val_loss: 0.3302 - val_accuracy: 0.8879\n",
      "Epoch 29/30\n",
      "333/333 [==============================] - 171s 513ms/step - loss: 0.1740 - accuracy: 0.9418 - val_loss: 0.3624 - val_accuracy: 0.8899\n",
      "Epoch 30/30\n",
      "333/333 [==============================] - 178s 536ms/step - loss: 0.1410 - accuracy: 0.9521 - val_loss: 0.2382 - val_accuracy: 0.9283\n"
     ]
    }
   ],
   "source": [
    "history = model.fit_generator(\n",
    "        train_generator,\n",
    "        steps_per_epoch = train_generator.n // train_generator.batch_size,    #The 2 slashes division return rounded integer\n",
    "        epochs = 30,\n",
    "        validation_data = validation_generator,\n",
    "        validation_steps = validation_generator.n // validation_generator.batch_size\n",
    "        )"
   ]
  },
  {
   "cell_type": "code",
   "execution_count": 12,
   "metadata": {
    "execution": {
     "iopub.execute_input": "2022-10-25T17:46:16.399120Z",
     "iopub.status.busy": "2022-10-25T17:46:16.398757Z",
     "iopub.status.idle": "2022-10-25T17:46:45.555594Z",
     "shell.execute_reply": "2022-10-25T17:46:45.554528Z",
     "shell.execute_reply.started": "2022-10-25T17:46:16.399090Z"
    }
   },
   "outputs": [
    {
     "name": "stderr",
     "output_type": "stream",
     "text": [
      "/opt/conda/lib/python3.7/site-packages/keras/engine/training.py:2006: UserWarning: `Model.evaluate_generator` is deprecated and will be removed in a future version. Please use `Model.evaluate`, which supports generators.\n",
      "  warnings.warn('`Model.evaluate_generator` is deprecated and '\n"
     ]
    },
    {
     "name": "stdout",
     "output_type": "stream",
     "text": [
      "Test loss :  0.15830951929092407\n",
      "Test accuracy :  0.9435999989509583\n"
     ]
    }
   ],
   "source": [
    "score = model.evaluate_generator(test_generator)\n",
    "print('Test loss : ', score[0])\n",
    "print('Test accuracy : ', score[1])"
   ]
  },
  {
   "cell_type": "code",
   "execution_count": 16,
   "metadata": {
    "execution": {
     "iopub.execute_input": "2022-10-25T17:48:28.338436Z",
     "iopub.status.busy": "2022-10-25T17:48:28.337982Z",
     "iopub.status.idle": "2022-10-25T17:48:28.348936Z",
     "shell.execute_reply": "2022-10-25T17:48:28.347789Z",
     "shell.execute_reply.started": "2022-10-25T17:48:28.338399Z"
    }
   },
   "outputs": [],
   "source": [
    "acc = history.history['accuracy']\n",
    "val_acc = history.history['val_accuracy']\n",
    "loss = history.history['loss']\n",
    "val_loss = history.history['val_loss']"
   ]
  },
  {
   "cell_type": "code",
   "execution_count": 19,
   "metadata": {
    "execution": {
     "iopub.execute_input": "2022-10-25T17:50:43.346680Z",
     "iopub.status.busy": "2022-10-25T17:50:43.346267Z",
     "iopub.status.idle": "2022-10-25T17:50:43.617595Z",
     "shell.execute_reply": "2022-10-25T17:50:43.616484Z",
     "shell.execute_reply.started": "2022-10-25T17:50:43.346645Z"
    }
   },
   "outputs": [
    {
     "data": {
      "text/plain": [
       "Text(0.5, 1.0, 'Training and Validation Accuracy')"
      ]
     },
     "execution_count": 19,
     "metadata": {},
     "output_type": "execute_result"
    },
    {
     "data": {
      "image/png": "[encoded data removed]",
      "text/plain": [
       "<Figure size 576x576 with 1 Axes>"
      ]
     },
     "metadata": {
      "needs_background": "light"
     },
     "output_type": "display_data"
    }
   ],
   "source": [
    "plt.figure(figsize=(8, 8))\n",
    "plt.subplot(2, 1, 1)\n",
    "plt.plot(acc, label='Training Accuracy')\n",
    "plt.plot(val_acc, label='Validation Accuracy')\n",
    "plt.legend(loc='lower right')\n",
    "plt.ylabel('Accuracy')\n",
    "plt.ylim([min(plt.ylim()),1])\n",
    "plt.title('Training and Validation Accuracy')\n"
   ]
  },
  {
   "cell_type": "code",
   "execution_count": 20,
   "metadata": {
    "execution": {
     "iopub.execute_input": "2022-10-25T17:51:18.099225Z",
     "iopub.status.busy": "2022-10-25T17:51:18.098789Z",
     "iopub.status.idle": "2022-10-25T17:51:18.307923Z",
     "shell.execute_reply": "2022-10-25T17:51:18.306838Z",
     "shell.execute_reply.started": "2022-10-25T17:51:18.099190Z"
    }
   },
   "outputs": [
    {
     "data": {
      "image/png": "[encoded data removed]",
      "text/plain": [
       "<Figure size 432x288 with 1 Axes>"
      ]
     },
     "metadata": {
      "needs_background": "light"
     },
     "output_type": "display_data"
    }
   ],
   "source": [
    "plt.subplot(2, 1, 2)\n",
    "plt.plot(loss, label='Training Loss')\n",
    "plt.plot(val_loss, label='Validation Loss')\n",
    "plt.legend(loc='upper right')\n",
    "plt.ylabel('Cross Entropy')\n",
    "plt.ylim([0,max(plt.ylim())])\n",
    "plt.title('Training and Validation Loss')\n",
    "plt.show()"
   ]
  },
  {
   "cell_type": "code",
   "execution_count": 21,
   "metadata": {
    "execution": {
     "iopub.execute_input": "2022-10-25T17:51:33.132720Z",
     "iopub.status.busy": "2022-10-25T17:51:33.132347Z",
     "iopub.status.idle": "2022-10-25T17:51:33.184322Z",
     "shell.execute_reply": "2022-10-25T17:51:33.183347Z",
     "shell.execute_reply.started": "2022-10-25T17:51:33.132686Z"
    }
   },
   "outputs": [],
   "source": [
    "model.save(\"Tomato_disease.h5\")"
   ]
  },
  {
   "cell_type": "code",
   "execution_count": null,
   "metadata": {},
   "outputs": [],
   "source": []
  }
 ],
 "metadata": {
  "kernelspec": {
   "display_name": "Python 3 (ipykernel)",
   "language": "python",
   "name": "python3"
  },
  "language_info": {
   "codemirror_mode": {
    "name": "ipython",
    "version": 3
   },
   "file_extension": ".py",
   "mimetype": "text/x-python",
   "name": "python",
   "nbconvert_exporter": "python",
   "pygments_lexer": "ipython3",
   "version": "3.9.7"
  }
 },
 "nbformat": 4,
 "nbformat_minor": 4
}
